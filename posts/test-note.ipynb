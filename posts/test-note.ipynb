{
 "cells": [
  {
   "cell_type": "markdown",
   "id": "b224d77f",
   "metadata": {},
   "source": [
    "# Test notebook\n",
    "An example"
   ]
  },
  {
   "cell_type": "code",
   "execution_count": 2,
   "id": "4578e31a",
   "metadata": {},
   "outputs": [],
   "source": [
    "import matplotlib.pyplot as plt"
   ]
  },
  {
   "cell_type": "code",
   "execution_count": 1,
   "id": "74fe7e61",
   "metadata": {},
   "outputs": [
    {
     "name": "stdout",
     "output_type": "stream",
     "text": [
      "Hello, World!\n",
      "Hello, World!\n"
     ]
    }
   ],
   "source": [
    "def hello():\n",
    "    print(\"Hello, World!\")\n",
    "    if True:\n",
    "        print(\"Hello, World!\")\n",
    "    else:\n",
    "        print(\"Hello, World!\")\n",
    "    \n",
    "hello()"
   ]
  },
  {
   "cell_type": "code",
   "execution_count": null,
   "id": "2bfe2fc9",
   "metadata": {},
   "outputs": [],
   "source": [
    "plt.plot([1,2,3,4], [1,4,9,16], 'ro', label='ro')\n",
    "plt.plot([1,2,3,4], [1,4,9,16], 'r--', label='r--')\n",
    "plt.plot([1,2,3,4], [1,4,9,16], 'bs', label='bs')\n",
    "plt.plot([1,2,3,4], [1,4,9,16], 'g^', label='g^')\n",
    "plt.legend()\n",
    "plt.show()\n",
    "plt.axis([0, 6, 0, 20])"
   ]
  },
  {
   "cell_type": "code",
   "execution_count": null,
   "id": "14ee4bbe",
   "metadata": {},
   "outputs": [],
   "source": []
  }
 ],
 "metadata": {
  "kernelspec": {
   "display_name": "base",
   "language": "python",
   "name": "python3"
  },
  "language_info": {
   "codemirror_mode": {
    "name": "ipython",
    "version": 3
   },
   "file_extension": ".py",
   "mimetype": "text/x-python",
   "name": "python",
   "nbconvert_exporter": "python",
   "pygments_lexer": "ipython3",
   "version": "3.12.8"
  }
 },
 "nbformat": 4,
 "nbformat_minor": 5
}
